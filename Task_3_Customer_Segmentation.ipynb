{
  "nbformat": 4,
  "nbformat_minor": 0,
  "metadata": {
    "colab": {
      "provenance": [],
      "authorship_tag": "ABX9TyNmTv/rrAW/xkqtToSQEGwz",
      "include_colab_link": true
    },
    "kernelspec": {
      "name": "python3",
      "display_name": "Python 3"
    },
    "language_info": {
      "name": "python"
    }
  },
  "cells": [
    {
      "cell_type": "markdown",
      "metadata": {
        "id": "view-in-github",
        "colab_type": "text"
      },
      "source": [
        "<a href=\"https://colab.research.google.com/github/karim-mammadov/SaiKet_Systems_Tasks/blob/main/Task_3_Customer_Segmentation.ipynb\" target=\"_parent\"><img src=\"https://colab.research.google.com/assets/colab-badge.svg\" alt=\"Open In Colab\"/></a>"
      ]
    },
    {
      "cell_type": "markdown",
      "source": [
        "**Import Libraries**\n",
        "\n"
      ],
      "metadata": {
        "id": "nAcxRo82KXR6"
      }
    },
    {
      "cell_type": "code",
      "execution_count": 1,
      "metadata": {
        "id": "JrxT28YsJ2LZ"
      },
      "outputs": [],
      "source": [
        "import pandas as pd\n",
        "import seaborn as sns\n",
        "import matplotlib.pyplot as plt"
      ]
    },
    {
      "cell_type": "markdown",
      "source": [
        "**Load Dataset**"
      ],
      "metadata": {
        "id": "7-lWdsk0KcnY"
      }
    },
    {
      "cell_type": "code",
      "source": [
        "df = pd.read_csv(\"/content/Telco_Customer_Churn_Dataset  (3).csv\")\n",
        "print(\"Initial shape:\", df.shape)\n",
        "print(df.head())"
      ],
      "metadata": {
        "colab": {
          "base_uri": "https://localhost:8080/"
        },
        "id": "T2ZOYwltKa_D",
        "outputId": "2078952b-b95a-4a8f-c940-b49f1a5c43fb"
      },
      "execution_count": 3,
      "outputs": [
        {
          "output_type": "stream",
          "name": "stdout",
          "text": [
            "Initial shape: (7043, 21)\n",
            "   customerID  gender  SeniorCitizen Partner Dependents  tenure PhoneService  \\\n",
            "0  7590-VHVEG  Female              0     Yes         No       1           No   \n",
            "1  5575-GNVDE    Male              0      No         No      34          Yes   \n",
            "2  3668-QPYBK    Male              0      No         No       2          Yes   \n",
            "3  7795-CFOCW    Male              0      No         No      45           No   \n",
            "4  9237-HQITU  Female              0      No         No       2          Yes   \n",
            "\n",
            "      MultipleLines InternetService OnlineSecurity  ... DeviceProtection  \\\n",
            "0  No phone service             DSL             No  ...               No   \n",
            "1                No             DSL            Yes  ...              Yes   \n",
            "2                No             DSL            Yes  ...               No   \n",
            "3  No phone service             DSL            Yes  ...              Yes   \n",
            "4                No     Fiber optic             No  ...               No   \n",
            "\n",
            "  TechSupport StreamingTV StreamingMovies        Contract PaperlessBilling  \\\n",
            "0          No          No              No  Month-to-month              Yes   \n",
            "1          No          No              No        One year               No   \n",
            "2          No          No              No  Month-to-month              Yes   \n",
            "3         Yes          No              No        One year               No   \n",
            "4          No          No              No  Month-to-month              Yes   \n",
            "\n",
            "               PaymentMethod MonthlyCharges  TotalCharges Churn  \n",
            "0           Electronic check          29.85         29.85    No  \n",
            "1               Mailed check          56.95        1889.5    No  \n",
            "2               Mailed check          53.85        108.15   Yes  \n",
            "3  Bank transfer (automatic)          42.30       1840.75    No  \n",
            "4           Electronic check          70.70        151.65   Yes  \n",
            "\n",
            "[5 rows x 21 columns]\n"
          ]
        }
      ]
    },
    {
      "cell_type": "markdown",
      "source": [
        "**Drop Irrelevant Columns**"
      ],
      "metadata": {
        "id": "lExjcpNuKnLN"
      }
    },
    {
      "cell_type": "code",
      "source": [
        "df = df.drop(\"customerID\", axis=1)\n",
        "print(\"Dropped 'customerID' column.\")"
      ],
      "metadata": {
        "colab": {
          "base_uri": "https://localhost:8080/"
        },
        "id": "CtvRL7ynKep3",
        "outputId": "8b5d8d78-7fc2-49ed-da7c-4d3fe1c9e6a5"
      },
      "execution_count": 4,
      "outputs": [
        {
          "output_type": "stream",
          "name": "stdout",
          "text": [
            "Dropped 'customerID' column.\n"
          ]
        }
      ]
    },
    {
      "cell_type": "markdown",
      "source": [
        "**Handle Missing Values**\n",
        "\n",
        "**Convert 'TotalCharges' to numeric**"
      ],
      "metadata": {
        "id": "DETSnS6kKyyU"
      }
    },
    {
      "cell_type": "code",
      "source": [
        "df['TotalCharges'] = pd.to_numeric(df['TotalCharges'], errors='coerce')"
      ],
      "metadata": {
        "id": "kr_XYfoXKwIb"
      },
      "execution_count": 5,
      "outputs": []
    },
    {
      "cell_type": "markdown",
      "source": [
        "**Fill numeric missing values with median**"
      ],
      "metadata": {
        "id": "8q9ATVzaLAVr"
      }
    },
    {
      "cell_type": "code",
      "source": [
        "numeric_cols = df.select_dtypes(include=['float64', 'int64']).columns.tolist()\n",
        "df[numeric_cols] = df[numeric_cols].fillna(df[numeric_cols].median())"
      ],
      "metadata": {
        "id": "mgpe0AFaK-bw"
      },
      "execution_count": 6,
      "outputs": []
    },
    {
      "cell_type": "markdown",
      "source": [
        "**Fill categorical missing values with mode**"
      ],
      "metadata": {
        "id": "Z4yqUBUXLMja"
      }
    },
    {
      "cell_type": "code",
      "source": [
        "categorical_cols = df.select_dtypes(include=['object']).columns.tolist()\n",
        "for col in categorical_cols:\n",
        "    df[col] = df[col].fillna(df[col].mode()[0])\n",
        "print(\"Handled missing values.\")"
      ],
      "metadata": {
        "colab": {
          "base_uri": "https://localhost:8080/"
        },
        "id": "K1fGboO5LHss",
        "outputId": "782d201f-b54a-4dbf-e476-f10a1a2ad021"
      },
      "execution_count": 7,
      "outputs": [
        {
          "output_type": "stream",
          "name": "stdout",
          "text": [
            "Handled missing values.\n"
          ]
        }
      ]
    },
    {
      "cell_type": "markdown",
      "source": [
        "**Encode Categorical Variables**\n",
        "\n",
        "**Exclude target**"
      ],
      "metadata": {
        "id": "wx9fPvZ0LRgg"
      }
    },
    {
      "cell_type": "code",
      "source": [
        "categorical_cols = [col for col in categorical_cols if col != 'Churn']\n",
        "df = pd.get_dummies(df, columns=categorical_cols, drop_first=True)"
      ],
      "metadata": {
        "id": "R7QFzLEOLP7k"
      },
      "execution_count": 8,
      "outputs": []
    },
    {
      "cell_type": "markdown",
      "source": [
        "**Encode target**"
      ],
      "metadata": {
        "id": "kbkPngaoLY36"
      }
    },
    {
      "cell_type": "code",
      "source": [
        "df['Churn'] = df['Churn'].map({'Yes': 1, 'No': 0})\n",
        "print(\"Encoded categorical variables and target.\")"
      ],
      "metadata": {
        "colab": {
          "base_uri": "https://localhost:8080/"
        },
        "id": "VffHARbMLWqz",
        "outputId": "a7fc0ae8-53d8-4cde-a515-65eb497e7c57"
      },
      "execution_count": 9,
      "outputs": [
        {
          "output_type": "stream",
          "name": "stdout",
          "text": [
            "Encoded categorical variables and target.\n"
          ]
        }
      ]
    },
    {
      "cell_type": "markdown",
      "source": [
        "**Customer Segmentation**"
      ],
      "metadata": {
        "id": "gXLGxSnSLcd8"
      }
    },
    {
      "cell_type": "markdown",
      "source": [
        "**We segment based on tenure, MonthlyCharges, and contract type**\n",
        "\n",
        "**Bin tenure into categories**"
      ],
      "metadata": {
        "id": "EDzoTfPsL17M"
      }
    },
    {
      "cell_type": "code",
      "source": [
        "df['tenure_group'] = pd.cut(df['tenure'],\n",
        "                            bins=[0, 12, 24, 48, 60, 72],\n",
        "                            labels=['0-12','13-24','25-48','49-60','61-72'])"
      ],
      "metadata": {
        "id": "wwKUaNjeLaoT"
      },
      "execution_count": 10,
      "outputs": []
    },
    {
      "cell_type": "markdown",
      "source": [
        "**Bin MonthlyCharges into categories**"
      ],
      "metadata": {
        "id": "xIE1GbROL9Dh"
      }
    },
    {
      "cell_type": "code",
      "source": [
        "df['MonthlyCharges_group'] = pd.qcut(df['MonthlyCharges'], q=4, labels=['Low','Medium','High','Very High'])"
      ],
      "metadata": {
        "id": "hOiJTyZCL7iY"
      },
      "execution_count": 11,
      "outputs": []
    },
    {
      "cell_type": "markdown",
      "source": [
        "**Extract contract type from one-hot columns**"
      ],
      "metadata": {
        "id": "zV32vaNWMCUL"
      }
    },
    {
      "cell_type": "code",
      "source": [
        "contract_cols = [col for col in df.columns if 'Contract_' in col]\n",
        "def get_contract_type(row):\n",
        "    for col in contract_cols:\n",
        "        if row[col] == 1:\n",
        "            return col.replace('Contract_', '')\n",
        "    return 'Unknown'"
      ],
      "metadata": {
        "id": "TQ81TuMfL_Ui"
      },
      "execution_count": 12,
      "outputs": []
    },
    {
      "cell_type": "code",
      "source": [
        "df['ContractType'] = df.apply(get_contract_type, axis=1)\n",
        "print(\"Created customer segments based on tenure, MonthlyCharges, and contract type.\")"
      ],
      "metadata": {
        "colab": {
          "base_uri": "https://localhost:8080/"
        },
        "id": "ntQyv7xbMEtp",
        "outputId": "965d4ee2-e7cf-4eed-a06e-3baa90d6a56e"
      },
      "execution_count": 13,
      "outputs": [
        {
          "output_type": "stream",
          "name": "stdout",
          "text": [
            "Created customer segments based on tenure, MonthlyCharges, and contract type.\n"
          ]
        }
      ]
    },
    {
      "cell_type": "markdown",
      "source": [
        "**Analyze Churn Within Segments**"
      ],
      "metadata": {
        "id": "_yOsJXWMMIJ9"
      }
    },
    {
      "cell_type": "code",
      "source": [
        "churn_summary = df.groupby(['tenure_group','MonthlyCharges_group','ContractType'], observed=False)['Churn'].mean().reset_index()\n",
        "churn_summary.rename(columns={'Churn':'ChurnRate'}, inplace=True)\n",
        "print(churn_summary.head())"
      ],
      "metadata": {
        "colab": {
          "base_uri": "https://localhost:8080/"
        },
        "id": "RVuB2BApMGWp",
        "outputId": "6b32f60c-9376-4cc3-f5fd-6f618baa7204"
      },
      "execution_count": 16,
      "outputs": [
        {
          "output_type": "stream",
          "name": "stdout",
          "text": [
            "  tenure_group MonthlyCharges_group ContractType  ChurnRate\n",
            "0         0-12                  Low     One year   0.060976\n",
            "1         0-12                  Low     Two year   0.000000\n",
            "2         0-12                  Low      Unknown   0.297297\n",
            "3         0-12               Medium     One year   0.178571\n",
            "4         0-12               Medium     Two year   0.000000\n"
          ]
        }
      ]
    },
    {
      "cell_type": "markdown",
      "source": [
        "**Identify High-Value Customers at Risk**"
      ],
      "metadata": {
        "id": "qXqIpFUMMeU2"
      }
    },
    {
      "cell_type": "markdown",
      "source": [
        "**Criteria: High MonthlyCharges and Churn = 1**"
      ],
      "metadata": {
        "id": "4L2cVuBoMgwL"
      }
    },
    {
      "cell_type": "code",
      "source": [
        "high_value_risk = df[(df['MonthlyCharges_group'].isin(['High','Very High'])) & (df['Churn'] == 1)]\n",
        "print(\"Number of high-value customers at risk:\", high_value_risk.shape[0])"
      ],
      "metadata": {
        "colab": {
          "base_uri": "https://localhost:8080/"
        },
        "id": "mqHj-b_MMKP3",
        "outputId": "bfd92ed1-63af-43fd-c9d7-65c16db60217"
      },
      "execution_count": 17,
      "outputs": [
        {
          "output_type": "stream",
          "name": "stdout",
          "text": [
            "Number of high-value customers at risk: 1237\n"
          ]
        }
      ]
    },
    {
      "cell_type": "markdown",
      "source": [
        "**Visualization**"
      ],
      "metadata": {
        "id": "qH5lBrCYMk6f"
      }
    },
    {
      "cell_type": "code",
      "source": [
        "plt.figure(figsize=(12,6))\n",
        "sns.barplot(x='tenure_group', y='Churn', hue='ContractType', data=df)\n",
        "plt.title(\"Churn Rate by Tenure and Contract Type\")\n",
        "plt.ylabel(\"Churn Rate\")\n",
        "plt.xlabel(\"Tenure Group\")\n",
        "plt.show()"
      ],
      "metadata": {
        "colab": {
          "base_uri": "https://localhost:8080/",
          "height": 564
        },
        "id": "SP2Zb_pgMjMP",
        "outputId": "391adc43-4f2c-4b30-ce29-60917e1e1563"
      },
      "execution_count": 18,
      "outputs": [
        {
          "output_type": "display_data",
          "data": {
            "text/plain": [
              "<Figure size 1200x600 with 1 Axes>"
            ],
            "image/png": "[encoded data removed]"
          },
          "metadata": {}
        }
      ]
    },
    {
      "cell_type": "code",
      "source": [],
      "metadata": {
        "id": "1BjBdImTMmlX"
      },
      "execution_count": null,
      "outputs": []
    }
  ]
}